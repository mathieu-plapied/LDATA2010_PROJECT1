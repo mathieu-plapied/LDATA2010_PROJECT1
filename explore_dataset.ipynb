{
 "cells": [
  {
   "cell_type": "code",
   "execution_count": 30,
   "metadata": {
    "collapsed": true
   },
   "outputs": [],
   "source": [
    "import pandas as pd\n",
    "import numpy as np\n",
    "import seaborn as sns\n",
    "import matplotlib.pyplot as plt\n",
    "\n",
    "#Path\n",
    "data_path = \"data/transcriptomics_data.csv\""
   ]
  },
  {
   "cell_type": "code",
   "execution_count": 31,
   "outputs": [
    {
     "data": {
      "text/plain": "     gene_0    gene_1    gene_2    gene_3   gene_4    gene_5    gene_6  \\\n0 -0.014834  4.250975 -0.099883 -0.032479 -0.06009 -0.069533 -0.092474   \n1 -0.014834  3.493712 -0.099883 -0.032479 -0.06009 -0.069533 -0.092474   \n2 -0.014834 -2.470220 -0.099883 -0.032479 -0.06009 -0.069533 -0.092474   \n3 -0.014834 -4.274284 -0.099883 -0.032479 -0.06009 -0.069533 -0.092474   \n4 -0.014834 -4.274284 -0.099883 -0.032479 -0.06009 -0.069533 -0.092474   \n5 -0.014834 -4.274284 -0.099883 -0.032479 -0.06009 -0.069533 -0.092474   \n6 -0.014834 -4.274284 -0.099883 -0.032479 -0.06009 -0.069533 -0.092474   \n7 -0.014834 -4.274284 -0.099883 -0.032479 -0.06009 -0.069533 -0.092474   \n8 -0.014834  4.037188 -0.099883 -0.032479 -0.06009 -0.069533 -0.092474   \n9 -0.014834  4.152306 -0.099883 -0.032479 -0.06009 -0.069533 -0.092474   \n\n     gene_7    gene_8    gene_9  ...  gene_292  gene_293  gene_294  gene_295  \\\n0 -0.081217 -0.015683 -0.340271  ... -0.030855 -0.240271 -1.667885 -0.004167   \n1 -0.081217 -0.015683 -0.340271  ... -0.030855 -0.240271 -2.314307 -0.004167   \n2 -0.081217 -0.015683 -0.340271  ... -0.030855 -0.240271 -2.314307 -0.004167   \n3 -0.081217 -0.015683  1.215511  ... -0.030855 -0.240271 -2.314307 -0.004167   \n4 -0.081217 -0.015683 -0.340271  ... -0.030855 -0.240271 -2.314307 -0.004167   \n5 -0.081217 -0.015683 -0.340271  ... -0.030855 -0.240271 -2.314307 -0.004167   \n6 -0.081217 -0.015683 -0.340271  ... -0.030855 -0.240271 -2.314307 -0.004167   \n7 -0.081217 -0.015683 -0.340271  ... -0.030855 -0.240271  7.508489 -0.004167   \n8 -0.081217 -0.015683 -0.340271  ... -0.030855 -0.240271 -2.314307 -0.004167   \n9  0.972227 -0.015683 -0.340271  ... -0.030855 -0.240271 -2.314307 -0.004167   \n\n   gene_296  gene_297  gene_298  gene_299  cell_type   colour  \n0 -0.175357 -0.147322 -4.307380  0.211412         93  #53D385  \n1 -0.175357 -0.147322  0.892332  0.578744         72  #33A9CE  \n2 -0.175357 -0.147322  4.694579  0.626605          1  #FF88AD  \n3 -0.175357 -0.147322  2.417220  0.361311          7  #9440F3  \n4 -0.175357 -0.147322  4.983305  0.751244          7  #9440F3  \n5 -0.175357 -0.147322  4.434201  1.008515          7  #9440F3  \n6 -0.175357 -0.147322  4.188061  0.975149          0  #DDACC9  \n7 -0.175357 -0.147322  4.173272  0.400000         10  #6C00BF  \n8 -0.175357 -0.147322 -4.307380  0.091571         73  #0094C2  \n9 -0.175357 -0.147322  0.923985  0.488272         65  #ADE6A6  \n\n[10 rows x 302 columns]",
      "text/html": "<div>\n<style scoped>\n    .dataframe tbody tr th:only-of-type {\n        vertical-align: middle;\n    }\n\n    .dataframe tbody tr th {\n        vertical-align: top;\n    }\n\n    .dataframe thead th {\n        text-align: right;\n    }\n</style>\n<table border=\"1\" class=\"dataframe\">\n  <thead>\n    <tr style=\"text-align: right;\">\n      <th></th>\n      <th>gene_0</th>\n      <th>gene_1</th>\n      <th>gene_2</th>\n      <th>gene_3</th>\n      <th>gene_4</th>\n      <th>gene_5</th>\n      <th>gene_6</th>\n      <th>gene_7</th>\n      <th>gene_8</th>\n      <th>gene_9</th>\n      <th>...</th>\n      <th>gene_292</th>\n      <th>gene_293</th>\n      <th>gene_294</th>\n      <th>gene_295</th>\n      <th>gene_296</th>\n      <th>gene_297</th>\n      <th>gene_298</th>\n      <th>gene_299</th>\n      <th>cell_type</th>\n      <th>colour</th>\n    </tr>\n  </thead>\n  <tbody>\n    <tr>\n      <th>0</th>\n      <td>-0.014834</td>\n      <td>4.250975</td>\n      <td>-0.099883</td>\n      <td>-0.032479</td>\n      <td>-0.06009</td>\n      <td>-0.069533</td>\n      <td>-0.092474</td>\n      <td>-0.081217</td>\n      <td>-0.015683</td>\n      <td>-0.340271</td>\n      <td>...</td>\n      <td>-0.030855</td>\n      <td>-0.240271</td>\n      <td>-1.667885</td>\n      <td>-0.004167</td>\n      <td>-0.175357</td>\n      <td>-0.147322</td>\n      <td>-4.307380</td>\n      <td>0.211412</td>\n      <td>93</td>\n      <td>#53D385</td>\n    </tr>\n    <tr>\n      <th>1</th>\n      <td>-0.014834</td>\n      <td>3.493712</td>\n      <td>-0.099883</td>\n      <td>-0.032479</td>\n      <td>-0.06009</td>\n      <td>-0.069533</td>\n      <td>-0.092474</td>\n      <td>-0.081217</td>\n      <td>-0.015683</td>\n      <td>-0.340271</td>\n      <td>...</td>\n      <td>-0.030855</td>\n      <td>-0.240271</td>\n      <td>-2.314307</td>\n      <td>-0.004167</td>\n      <td>-0.175357</td>\n      <td>-0.147322</td>\n      <td>0.892332</td>\n      <td>0.578744</td>\n      <td>72</td>\n      <td>#33A9CE</td>\n    </tr>\n    <tr>\n      <th>2</th>\n      <td>-0.014834</td>\n      <td>-2.470220</td>\n      <td>-0.099883</td>\n      <td>-0.032479</td>\n      <td>-0.06009</td>\n      <td>-0.069533</td>\n      <td>-0.092474</td>\n      <td>-0.081217</td>\n      <td>-0.015683</td>\n      <td>-0.340271</td>\n      <td>...</td>\n      <td>-0.030855</td>\n      <td>-0.240271</td>\n      <td>-2.314307</td>\n      <td>-0.004167</td>\n      <td>-0.175357</td>\n      <td>-0.147322</td>\n      <td>4.694579</td>\n      <td>0.626605</td>\n      <td>1</td>\n      <td>#FF88AD</td>\n    </tr>\n    <tr>\n      <th>3</th>\n      <td>-0.014834</td>\n      <td>-4.274284</td>\n      <td>-0.099883</td>\n      <td>-0.032479</td>\n      <td>-0.06009</td>\n      <td>-0.069533</td>\n      <td>-0.092474</td>\n      <td>-0.081217</td>\n      <td>-0.015683</td>\n      <td>1.215511</td>\n      <td>...</td>\n      <td>-0.030855</td>\n      <td>-0.240271</td>\n      <td>-2.314307</td>\n      <td>-0.004167</td>\n      <td>-0.175357</td>\n      <td>-0.147322</td>\n      <td>2.417220</td>\n      <td>0.361311</td>\n      <td>7</td>\n      <td>#9440F3</td>\n    </tr>\n    <tr>\n      <th>4</th>\n      <td>-0.014834</td>\n      <td>-4.274284</td>\n      <td>-0.099883</td>\n      <td>-0.032479</td>\n      <td>-0.06009</td>\n      <td>-0.069533</td>\n      <td>-0.092474</td>\n      <td>-0.081217</td>\n      <td>-0.015683</td>\n      <td>-0.340271</td>\n      <td>...</td>\n      <td>-0.030855</td>\n      <td>-0.240271</td>\n      <td>-2.314307</td>\n      <td>-0.004167</td>\n      <td>-0.175357</td>\n      <td>-0.147322</td>\n      <td>4.983305</td>\n      <td>0.751244</td>\n      <td>7</td>\n      <td>#9440F3</td>\n    </tr>\n    <tr>\n      <th>5</th>\n      <td>-0.014834</td>\n      <td>-4.274284</td>\n      <td>-0.099883</td>\n      <td>-0.032479</td>\n      <td>-0.06009</td>\n      <td>-0.069533</td>\n      <td>-0.092474</td>\n      <td>-0.081217</td>\n      <td>-0.015683</td>\n      <td>-0.340271</td>\n      <td>...</td>\n      <td>-0.030855</td>\n      <td>-0.240271</td>\n      <td>-2.314307</td>\n      <td>-0.004167</td>\n      <td>-0.175357</td>\n      <td>-0.147322</td>\n      <td>4.434201</td>\n      <td>1.008515</td>\n      <td>7</td>\n      <td>#9440F3</td>\n    </tr>\n    <tr>\n      <th>6</th>\n      <td>-0.014834</td>\n      <td>-4.274284</td>\n      <td>-0.099883</td>\n      <td>-0.032479</td>\n      <td>-0.06009</td>\n      <td>-0.069533</td>\n      <td>-0.092474</td>\n      <td>-0.081217</td>\n      <td>-0.015683</td>\n      <td>-0.340271</td>\n      <td>...</td>\n      <td>-0.030855</td>\n      <td>-0.240271</td>\n      <td>-2.314307</td>\n      <td>-0.004167</td>\n      <td>-0.175357</td>\n      <td>-0.147322</td>\n      <td>4.188061</td>\n      <td>0.975149</td>\n      <td>0</td>\n      <td>#DDACC9</td>\n    </tr>\n    <tr>\n      <th>7</th>\n      <td>-0.014834</td>\n      <td>-4.274284</td>\n      <td>-0.099883</td>\n      <td>-0.032479</td>\n      <td>-0.06009</td>\n      <td>-0.069533</td>\n      <td>-0.092474</td>\n      <td>-0.081217</td>\n      <td>-0.015683</td>\n      <td>-0.340271</td>\n      <td>...</td>\n      <td>-0.030855</td>\n      <td>-0.240271</td>\n      <td>7.508489</td>\n      <td>-0.004167</td>\n      <td>-0.175357</td>\n      <td>-0.147322</td>\n      <td>4.173272</td>\n      <td>0.400000</td>\n      <td>10</td>\n      <td>#6C00BF</td>\n    </tr>\n    <tr>\n      <th>8</th>\n      <td>-0.014834</td>\n      <td>4.037188</td>\n      <td>-0.099883</td>\n      <td>-0.032479</td>\n      <td>-0.06009</td>\n      <td>-0.069533</td>\n      <td>-0.092474</td>\n      <td>-0.081217</td>\n      <td>-0.015683</td>\n      <td>-0.340271</td>\n      <td>...</td>\n      <td>-0.030855</td>\n      <td>-0.240271</td>\n      <td>-2.314307</td>\n      <td>-0.004167</td>\n      <td>-0.175357</td>\n      <td>-0.147322</td>\n      <td>-4.307380</td>\n      <td>0.091571</td>\n      <td>73</td>\n      <td>#0094C2</td>\n    </tr>\n    <tr>\n      <th>9</th>\n      <td>-0.014834</td>\n      <td>4.152306</td>\n      <td>-0.099883</td>\n      <td>-0.032479</td>\n      <td>-0.06009</td>\n      <td>-0.069533</td>\n      <td>-0.092474</td>\n      <td>0.972227</td>\n      <td>-0.015683</td>\n      <td>-0.340271</td>\n      <td>...</td>\n      <td>-0.030855</td>\n      <td>-0.240271</td>\n      <td>-2.314307</td>\n      <td>-0.004167</td>\n      <td>-0.175357</td>\n      <td>-0.147322</td>\n      <td>0.923985</td>\n      <td>0.488272</td>\n      <td>65</td>\n      <td>#ADE6A6</td>\n    </tr>\n  </tbody>\n</table>\n<p>10 rows × 302 columns</p>\n</div>"
     },
     "execution_count": 31,
     "metadata": {},
     "output_type": "execute_result"
    }
   ],
   "source": [
    "df = pd.read_csv(data_path)\n",
    "df.head(10)"
   ],
   "metadata": {
    "collapsed": false
   }
  },
  {
   "cell_type": "code",
   "execution_count": 32,
   "outputs": [
    {
     "data": {
      "text/plain": "     cell_type  count\n0            0     68\n1            1     76\n2            2    115\n3            3    287\n4            4    534\n..         ...    ...\n128        128    110\n129        129    183\n130        130      7\n131        131     30\n132        132    106\n\n[133 rows x 2 columns]",
      "text/html": "<div>\n<style scoped>\n    .dataframe tbody tr th:only-of-type {\n        vertical-align: middle;\n    }\n\n    .dataframe tbody tr th {\n        vertical-align: top;\n    }\n\n    .dataframe thead th {\n        text-align: right;\n    }\n</style>\n<table border=\"1\" class=\"dataframe\">\n  <thead>\n    <tr style=\"text-align: right;\">\n      <th></th>\n      <th>cell_type</th>\n      <th>count</th>\n    </tr>\n  </thead>\n  <tbody>\n    <tr>\n      <th>0</th>\n      <td>0</td>\n      <td>68</td>\n    </tr>\n    <tr>\n      <th>1</th>\n      <td>1</td>\n      <td>76</td>\n    </tr>\n    <tr>\n      <th>2</th>\n      <td>2</td>\n      <td>115</td>\n    </tr>\n    <tr>\n      <th>3</th>\n      <td>3</td>\n      <td>287</td>\n    </tr>\n    <tr>\n      <th>4</th>\n      <td>4</td>\n      <td>534</td>\n    </tr>\n    <tr>\n      <th>...</th>\n      <td>...</td>\n      <td>...</td>\n    </tr>\n    <tr>\n      <th>128</th>\n      <td>128</td>\n      <td>110</td>\n    </tr>\n    <tr>\n      <th>129</th>\n      <td>129</td>\n      <td>183</td>\n    </tr>\n    <tr>\n      <th>130</th>\n      <td>130</td>\n      <td>7</td>\n    </tr>\n    <tr>\n      <th>131</th>\n      <td>131</td>\n      <td>30</td>\n    </tr>\n    <tr>\n      <th>132</th>\n      <td>132</td>\n      <td>106</td>\n    </tr>\n  </tbody>\n</table>\n<p>133 rows × 2 columns</p>\n</div>"
     },
     "execution_count": 32,
     "metadata": {},
     "output_type": "execute_result"
    }
   ],
   "source": [
    "cell_type = [i for i in range(0, 133)]\n",
    "article = [210, 211, 114, 178]\n",
    "#Creating two Series by passing lists\n",
    "cell_series = pd.Series(cell_type)\n",
    "count_series = pd.Series(df.cell_type.value_counts())\n",
    "#Creating a dictionary by passing Series objects as values\n",
    "frame = {'cell_type': cell_series, 'count': count_series}\n",
    "#Creating DataFrame by passing Dictionary\n",
    "pd.DataFrame(frame)\n",
    "\n"
   ],
   "metadata": {
    "collapsed": false
   }
  },
  {
   "cell_type": "code",
   "execution_count": 33,
   "outputs": [
    {
     "name": "stdout",
     "output_type": "stream",
     "text": [
      "length of dataset : 23822\n"
     ]
    }
   ],
   "source": [
    "print(f\"length of dataset : {df.shape[0]}\")"
   ],
   "metadata": {
    "collapsed": false
   }
  },
  {
   "cell_type": "code",
   "execution_count": 39,
   "outputs": [
    {
     "data": {
      "text/plain": "Index(['gene_0', 'gene_1', 'gene_2', 'gene_3', 'gene_4', 'gene_5', 'gene_6',\n       'gene_7', 'gene_8', 'gene_9',\n       ...\n       'gene_292', 'gene_293', 'gene_294', 'gene_295', 'gene_296', 'gene_297',\n       'gene_298', 'gene_299', 'cell_type', 'colour'],\n      dtype='object', length=302)"
     },
     "execution_count": 39,
     "metadata": {},
     "output_type": "execute_result"
    }
   ],
   "source": [
    "df.columns"
   ],
   "metadata": {
    "collapsed": false
   }
  },
  {
   "cell_type": "code",
   "execution_count": 40,
   "outputs": [
    {
     "data": {
      "text/plain": "            gene_0    gene_1    gene_2    gene_3    gene_4    gene_5  \\\ngene_0    1.000000 -0.040892  0.400002 -0.002627 -0.003585  0.042994   \ngene_1   -0.040892  1.000000 -0.098274 -0.053435 -0.069771 -0.079453   \ngene_2    0.400002 -0.098274  1.000000  0.064292  0.140186  0.208635   \ngene_3   -0.002627 -0.053435  0.064292  1.000000  0.547295  0.466608   \ngene_4   -0.003585 -0.069771  0.140186  0.547295  1.000000  0.687681   \n...            ...       ...       ...       ...       ...       ...   \ngene_295 -0.000986 -0.022759  0.018653 -0.001453 -0.001983  0.016430   \ngene_296  0.008216 -0.091730  0.027576  0.079266  0.097454  0.159409   \ngene_297 -0.004810 -0.122913  0.124515  0.458658  0.651011  0.607254   \ngene_298 -0.041951 -0.642099 -0.099990 -0.055719 -0.080176 -0.084377   \ngene_299 -0.175360  0.098133 -0.391852 -0.189562 -0.278867 -0.313789   \n\n            gene_6    gene_7    gene_8    gene_9  ...  gene_290  gene_291  \\\ngene_0   -0.004514  0.391367 -0.001873  0.002988  ...  0.314901  0.530912   \ngene_1   -0.082384 -0.054034 -0.030865 -0.155084  ... -0.129526 -0.067514   \ngene_2    0.129802  0.557608 -0.004670  0.169167  ...  0.493533  0.726922   \ngene_3    0.584414  0.025137  0.034493 -0.012602  ...  0.282358 -0.004273   \ngene_4    0.827186  0.046998  0.046028 -0.014975  ...  0.314521 -0.007817   \n...            ...       ...       ...       ...  ...       ...       ...   \ngene_295  0.047343 -0.003083 -0.001036  0.078468  ...  0.031632  0.000399   \ngene_296  0.118085  0.047234  0.391038 -0.014417  ...  0.420683  0.025736   \ngene_297  0.748286  0.104421  0.077872  0.047409  ...  0.437535 -0.001704   \ngene_298 -0.091156 -0.078150 -0.038178 -0.106191  ... -0.134701 -0.078383   \ngene_299 -0.334231 -0.270578 -0.119978 -0.456663  ... -0.494728 -0.311680   \n\n          gene_292  gene_293  gene_294  gene_295  gene_296  gene_297  \\\ngene_0    0.297198  0.038683 -0.015753 -0.000986  0.008216 -0.004810   \ngene_1   -0.036923 -0.150527 -0.337137 -0.022759 -0.091730 -0.122913   \ngene_2    0.545565  0.203868 -0.038629  0.018653  0.027576  0.124515   \ngene_3   -0.002839  0.017306 -0.019231 -0.001453  0.079266  0.458658   \ngene_4   -0.005688  0.033168 -0.026056 -0.001983  0.097454  0.651011   \n...            ...       ...       ...       ...       ...       ...   \ngene_295 -0.001564  0.083646 -0.007292  1.000000 -0.000067  0.049807   \ngene_296  0.016934  0.295487 -0.041300 -0.000067  1.000000  0.303586   \ngene_297 -0.003986  0.137563 -0.039840  0.049807  0.303586  1.000000   \ngene_298 -0.061647 -0.163530  0.427712 -0.014199 -0.102462 -0.106469   \ngene_299 -0.219901 -0.546026  0.069325 -0.066044 -0.354427 -0.430776   \n\n          gene_298  gene_299  \ngene_0   -0.041951 -0.175360  \ngene_1   -0.642099  0.098133  \ngene_2   -0.099990 -0.391852  \ngene_3   -0.055719 -0.189562  \ngene_4   -0.080176 -0.278867  \n...            ...       ...  \ngene_295 -0.014199 -0.066044  \ngene_296 -0.102462 -0.354427  \ngene_297 -0.106469 -0.430776  \ngene_298  1.000000  0.331732  \ngene_299  0.331732  1.000000  \n\n[300 rows x 300 columns]",
      "text/html": "<div>\n<style scoped>\n    .dataframe tbody tr th:only-of-type {\n        vertical-align: middle;\n    }\n\n    .dataframe tbody tr th {\n        vertical-align: top;\n    }\n\n    .dataframe thead th {\n        text-align: right;\n    }\n</style>\n<table border=\"1\" class=\"dataframe\">\n  <thead>\n    <tr style=\"text-align: right;\">\n      <th></th>\n      <th>gene_0</th>\n      <th>gene_1</th>\n      <th>gene_2</th>\n      <th>gene_3</th>\n      <th>gene_4</th>\n      <th>gene_5</th>\n      <th>gene_6</th>\n      <th>gene_7</th>\n      <th>gene_8</th>\n      <th>gene_9</th>\n      <th>...</th>\n      <th>gene_290</th>\n      <th>gene_291</th>\n      <th>gene_292</th>\n      <th>gene_293</th>\n      <th>gene_294</th>\n      <th>gene_295</th>\n      <th>gene_296</th>\n      <th>gene_297</th>\n      <th>gene_298</th>\n      <th>gene_299</th>\n    </tr>\n  </thead>\n  <tbody>\n    <tr>\n      <th>gene_0</th>\n      <td>1.000000</td>\n      <td>-0.040892</td>\n      <td>0.400002</td>\n      <td>-0.002627</td>\n      <td>-0.003585</td>\n      <td>0.042994</td>\n      <td>-0.004514</td>\n      <td>0.391367</td>\n      <td>-0.001873</td>\n      <td>0.002988</td>\n      <td>...</td>\n      <td>0.314901</td>\n      <td>0.530912</td>\n      <td>0.297198</td>\n      <td>0.038683</td>\n      <td>-0.015753</td>\n      <td>-0.000986</td>\n      <td>0.008216</td>\n      <td>-0.004810</td>\n      <td>-0.041951</td>\n      <td>-0.175360</td>\n    </tr>\n    <tr>\n      <th>gene_1</th>\n      <td>-0.040892</td>\n      <td>1.000000</td>\n      <td>-0.098274</td>\n      <td>-0.053435</td>\n      <td>-0.069771</td>\n      <td>-0.079453</td>\n      <td>-0.082384</td>\n      <td>-0.054034</td>\n      <td>-0.030865</td>\n      <td>-0.155084</td>\n      <td>...</td>\n      <td>-0.129526</td>\n      <td>-0.067514</td>\n      <td>-0.036923</td>\n      <td>-0.150527</td>\n      <td>-0.337137</td>\n      <td>-0.022759</td>\n      <td>-0.091730</td>\n      <td>-0.122913</td>\n      <td>-0.642099</td>\n      <td>0.098133</td>\n    </tr>\n    <tr>\n      <th>gene_2</th>\n      <td>0.400002</td>\n      <td>-0.098274</td>\n      <td>1.000000</td>\n      <td>0.064292</td>\n      <td>0.140186</td>\n      <td>0.208635</td>\n      <td>0.129802</td>\n      <td>0.557608</td>\n      <td>-0.004670</td>\n      <td>0.169167</td>\n      <td>...</td>\n      <td>0.493533</td>\n      <td>0.726922</td>\n      <td>0.545565</td>\n      <td>0.203868</td>\n      <td>-0.038629</td>\n      <td>0.018653</td>\n      <td>0.027576</td>\n      <td>0.124515</td>\n      <td>-0.099990</td>\n      <td>-0.391852</td>\n    </tr>\n    <tr>\n      <th>gene_3</th>\n      <td>-0.002627</td>\n      <td>-0.053435</td>\n      <td>0.064292</td>\n      <td>1.000000</td>\n      <td>0.547295</td>\n      <td>0.466608</td>\n      <td>0.584414</td>\n      <td>0.025137</td>\n      <td>0.034493</td>\n      <td>-0.012602</td>\n      <td>...</td>\n      <td>0.282358</td>\n      <td>-0.004273</td>\n      <td>-0.002839</td>\n      <td>0.017306</td>\n      <td>-0.019231</td>\n      <td>-0.001453</td>\n      <td>0.079266</td>\n      <td>0.458658</td>\n      <td>-0.055719</td>\n      <td>-0.189562</td>\n    </tr>\n    <tr>\n      <th>gene_4</th>\n      <td>-0.003585</td>\n      <td>-0.069771</td>\n      <td>0.140186</td>\n      <td>0.547295</td>\n      <td>1.000000</td>\n      <td>0.687681</td>\n      <td>0.827186</td>\n      <td>0.046998</td>\n      <td>0.046028</td>\n      <td>-0.014975</td>\n      <td>...</td>\n      <td>0.314521</td>\n      <td>-0.007817</td>\n      <td>-0.005688</td>\n      <td>0.033168</td>\n      <td>-0.026056</td>\n      <td>-0.001983</td>\n      <td>0.097454</td>\n      <td>0.651011</td>\n      <td>-0.080176</td>\n      <td>-0.278867</td>\n    </tr>\n    <tr>\n      <th>...</th>\n      <td>...</td>\n      <td>...</td>\n      <td>...</td>\n      <td>...</td>\n      <td>...</td>\n      <td>...</td>\n      <td>...</td>\n      <td>...</td>\n      <td>...</td>\n      <td>...</td>\n      <td>...</td>\n      <td>...</td>\n      <td>...</td>\n      <td>...</td>\n      <td>...</td>\n      <td>...</td>\n      <td>...</td>\n      <td>...</td>\n      <td>...</td>\n      <td>...</td>\n      <td>...</td>\n    </tr>\n    <tr>\n      <th>gene_295</th>\n      <td>-0.000986</td>\n      <td>-0.022759</td>\n      <td>0.018653</td>\n      <td>-0.001453</td>\n      <td>-0.001983</td>\n      <td>0.016430</td>\n      <td>0.047343</td>\n      <td>-0.003083</td>\n      <td>-0.001036</td>\n      <td>0.078468</td>\n      <td>...</td>\n      <td>0.031632</td>\n      <td>0.000399</td>\n      <td>-0.001564</td>\n      <td>0.083646</td>\n      <td>-0.007292</td>\n      <td>1.000000</td>\n      <td>-0.000067</td>\n      <td>0.049807</td>\n      <td>-0.014199</td>\n      <td>-0.066044</td>\n    </tr>\n    <tr>\n      <th>gene_296</th>\n      <td>0.008216</td>\n      <td>-0.091730</td>\n      <td>0.027576</td>\n      <td>0.079266</td>\n      <td>0.097454</td>\n      <td>0.159409</td>\n      <td>0.118085</td>\n      <td>0.047234</td>\n      <td>0.391038</td>\n      <td>-0.014417</td>\n      <td>...</td>\n      <td>0.420683</td>\n      <td>0.025736</td>\n      <td>0.016934</td>\n      <td>0.295487</td>\n      <td>-0.041300</td>\n      <td>-0.000067</td>\n      <td>1.000000</td>\n      <td>0.303586</td>\n      <td>-0.102462</td>\n      <td>-0.354427</td>\n    </tr>\n    <tr>\n      <th>gene_297</th>\n      <td>-0.004810</td>\n      <td>-0.122913</td>\n      <td>0.124515</td>\n      <td>0.458658</td>\n      <td>0.651011</td>\n      <td>0.607254</td>\n      <td>0.748286</td>\n      <td>0.104421</td>\n      <td>0.077872</td>\n      <td>0.047409</td>\n      <td>...</td>\n      <td>0.437535</td>\n      <td>-0.001704</td>\n      <td>-0.003986</td>\n      <td>0.137563</td>\n      <td>-0.039840</td>\n      <td>0.049807</td>\n      <td>0.303586</td>\n      <td>1.000000</td>\n      <td>-0.106469</td>\n      <td>-0.430776</td>\n    </tr>\n    <tr>\n      <th>gene_298</th>\n      <td>-0.041951</td>\n      <td>-0.642099</td>\n      <td>-0.099990</td>\n      <td>-0.055719</td>\n      <td>-0.080176</td>\n      <td>-0.084377</td>\n      <td>-0.091156</td>\n      <td>-0.078150</td>\n      <td>-0.038178</td>\n      <td>-0.106191</td>\n      <td>...</td>\n      <td>-0.134701</td>\n      <td>-0.078383</td>\n      <td>-0.061647</td>\n      <td>-0.163530</td>\n      <td>0.427712</td>\n      <td>-0.014199</td>\n      <td>-0.102462</td>\n      <td>-0.106469</td>\n      <td>1.000000</td>\n      <td>0.331732</td>\n    </tr>\n    <tr>\n      <th>gene_299</th>\n      <td>-0.175360</td>\n      <td>0.098133</td>\n      <td>-0.391852</td>\n      <td>-0.189562</td>\n      <td>-0.278867</td>\n      <td>-0.313789</td>\n      <td>-0.334231</td>\n      <td>-0.270578</td>\n      <td>-0.119978</td>\n      <td>-0.456663</td>\n      <td>...</td>\n      <td>-0.494728</td>\n      <td>-0.311680</td>\n      <td>-0.219901</td>\n      <td>-0.546026</td>\n      <td>0.069325</td>\n      <td>-0.066044</td>\n      <td>-0.354427</td>\n      <td>-0.430776</td>\n      <td>0.331732</td>\n      <td>1.000000</td>\n    </tr>\n  </tbody>\n</table>\n<p>300 rows × 300 columns</p>\n</div>"
     },
     "execution_count": 40,
     "metadata": {},
     "output_type": "execute_result"
    }
   ],
   "source": [
    "df = df.drop(columns=[\"colour\", \"cell_type\"])\n",
    "df.corr()"
   ],
   "metadata": {
    "collapsed": false
   }
  },
  {
   "cell_type": "code",
   "execution_count": 35,
   "outputs": [
    {
     "data": {
      "text/plain": "(array([], dtype=int64), array([], dtype=int64))"
     },
     "execution_count": 35,
     "metadata": {},
     "output_type": "execute_result"
    }
   ],
   "source": [
    "np.where(pd.isnull(df))"
   ],
   "metadata": {
    "collapsed": false
   }
  },
  {
   "cell_type": "code",
   "execution_count": 36,
   "outputs": [
    {
     "data": {
      "text/plain": "True"
     },
     "execution_count": 36,
     "metadata": {},
     "output_type": "execute_result"
    }
   ],
   "source": [
    "df.eq(0).any().any()"
   ],
   "metadata": {
    "collapsed": false
   }
  },
  {
   "cell_type": "code",
   "execution_count": 37,
   "outputs": [
    {
     "data": {
      "text/plain": "gene_0       False\ngene_1       False\ngene_2       False\ngene_3       False\ngene_4       False\n             ...  \ngene_297     False\ngene_298     False\ngene_299     False\ncell_type     True\ncolour       False\nLength: 302, dtype: bool"
     },
     "execution_count": 37,
     "metadata": {},
     "output_type": "execute_result"
    }
   ],
   "source": [
    "df.eq(0).any()\n"
   ],
   "metadata": {
    "collapsed": false
   }
  },
  {
   "cell_type": "code",
   "execution_count": 38,
   "outputs": [
    {
     "ename": "AttributeError",
     "evalue": "'range' object has no attribute 'type'",
     "output_type": "error",
     "traceback": [
      "\u001B[0;31m---------------------------------------------------------------------------\u001B[0m",
      "\u001B[0;31mAttributeError\u001B[0m                            Traceback (most recent call last)",
      "Cell \u001B[0;32mIn [38], line 1\u001B[0m\n\u001B[0;32m----> 1\u001B[0m \u001B[38;5;28;43mrange\u001B[39;49m\u001B[43m(\u001B[49m\u001B[38;5;241;43m0\u001B[39;49m\u001B[43m,\u001B[49m\u001B[43m \u001B[49m\u001B[38;5;241;43m10\u001B[39;49m\u001B[43m)\u001B[49m\u001B[38;5;241;43m.\u001B[39;49m\u001B[43mtype\u001B[49m\n",
      "\u001B[0;31mAttributeError\u001B[0m: 'range' object has no attribute 'type'"
     ]
    }
   ],
   "source": [
    "range(0, 10).type"
   ],
   "metadata": {
    "collapsed": false
   }
  },
  {
   "cell_type": "code",
   "execution_count": null,
   "outputs": [],
   "source": [],
   "metadata": {
    "collapsed": false
   }
  }
 ],
 "metadata": {
  "kernelspec": {
   "display_name": "Python 3",
   "language": "python",
   "name": "python3"
  },
  "language_info": {
   "codemirror_mode": {
    "name": "ipython",
    "version": 2
   },
   "file_extension": ".py",
   "mimetype": "text/x-python",
   "name": "python",
   "nbconvert_exporter": "python",
   "pygments_lexer": "ipython2",
   "version": "2.7.6"
  }
 },
 "nbformat": 4,
 "nbformat_minor": 0
}
